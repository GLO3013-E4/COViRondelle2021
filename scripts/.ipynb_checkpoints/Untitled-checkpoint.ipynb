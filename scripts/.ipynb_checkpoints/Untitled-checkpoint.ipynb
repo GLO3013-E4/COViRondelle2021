{
 "cells": [
  {
   "cell_type": "code",
   "execution_count": 701,
   "metadata": {},
   "outputs": [],
   "source": [
    "#TODO: change length -> height\n",
    "#TODO: régler les fucks de est-ce que c'est x ou y en premier pour les images + node_matrix[i][j]"
   ]
  },
  {
   "cell_type": "markdown",
   "metadata": {},
   "source": [
    "Imports"
   ]
  },
  {
   "cell_type": "code",
   "execution_count": 702,
   "metadata": {},
   "outputs": [],
   "source": [
    "import cv2\n",
    "from PIL import Image, ImageDraw\n",
    "import os"
   ]
  },
  {
   "cell_type": "code",
   "execution_count": 703,
   "metadata": {},
   "outputs": [],
   "source": [
    "%matplotlib inline"
   ]
  },
  {
   "cell_type": "markdown",
   "metadata": {},
   "source": [
    "Load Image"
   ]
  },
  {
   "cell_type": "code",
   "execution_count": 704,
   "metadata": {},
   "outputs": [],
   "source": [
    "#img = Image.new('RGBA', (length, width), (0,255,0,0))\n",
    "\n",
    "img = Image.open(\"../../../Desktop/Q5jkZwR.png\")\n",
    "draw = ImageDraw.Draw(img)"
   ]
  },
  {
   "cell_type": "markdown",
   "metadata": {},
   "source": [
    "Params"
   ]
  },
  {
   "cell_type": "code",
   "execution_count": 705,
   "metadata": {},
   "outputs": [],
   "source": [
    "# Params\n",
    "width, length = img.size\n",
    "space_between_squares = 50\n",
    "square_identifier_width = space_between_squares/5\n",
    "safety_cushion = 0 # pixels\n",
    "robot_width = 30 # pixels\n",
    "obstacle_cushion = safety_cushion + robot_width\n",
    "\n",
    "start_node_pixel_center = (21,24)\n",
    "end_node_pixel_center = (27,382)\n",
    "\n",
    "# add obstacles\n",
    "obstacles = [\n",
    "    (175,27), \n",
    "    (175,75), \n",
    "    (175,123), \n",
    "    (175,170), \n",
    "    (175,222),\n",
    "    (225,228)\n",
    "]"
   ]
  },
  {
   "cell_type": "code",
   "execution_count": 706,
   "metadata": {},
   "outputs": [
    {
     "name": "stdout",
     "output_type": "stream",
     "text": [
      "449 587\n"
     ]
    }
   ],
   "source": [
    "print(width, length)"
   ]
  },
  {
   "cell_type": "markdown",
   "metadata": {},
   "source": [
    "Draw Board"
   ]
  },
  {
   "cell_type": "code",
   "execution_count": 707,
   "metadata": {},
   "outputs": [],
   "source": [
    "for i in range((width//space_between_squares)+1):\n",
    "    draw.line((i*space_between_squares,0,i*space_between_squares,length), fill=128)\n",
    "    \n",
    "for i in range((length//space_between_squares)+1):\n",
    "    draw.line((0,i*space_between_squares ,width,i*space_between_squares), fill=128)"
   ]
  },
  {
   "cell_type": "code",
   "execution_count": 708,
   "metadata": {},
   "outputs": [],
   "source": [
    "class Node:\n",
    "    def __init__(self, matrix_center, pixel_coordinates_center, width, length): #live c'est des rectangles mais transformer si c'est des polygones\n",
    "        self.matrix_center = matrix_center\n",
    "        self.pixel_coordinates_center = pixel_coordinates_center\n",
    "        self.width = width\n",
    "        self.length = length\n",
    "        self.neighbors = []\n",
    "        self.role = \"empty\""
   ]
  },
  {
   "cell_type": "markdown",
   "metadata": {},
   "source": [
    "Create nodes"
   ]
  },
  {
   "cell_type": "code",
   "execution_count": 709,
   "metadata": {},
   "outputs": [],
   "source": [
    "node_matrix = [\n",
    "    [] for i in range(length//space_between_squares)\n",
    "]\n",
    "\n",
    "for i in range(length//space_between_squares):\n",
    "    for j in range(width//space_between_squares):\n",
    "        x=i*space_between_squares + space_between_squares/2\n",
    "        y=j*space_between_squares + space_between_squares/2\n",
    "        node_matrix[i].append(Node((i,j), (x,y),space_between_squares,space_between_squares))\n",
    "        \n",
    "        \n",
    "## Draw les centres\n",
    "#for line in node_matrix:\n",
    "#    for node in line:\n",
    "#        draw.point((node.pixel_coordinates_center))"
   ]
  },
  {
   "cell_type": "markdown",
   "metadata": {},
   "source": [
    "Connect nodes"
   ]
  },
  {
   "cell_type": "code",
   "execution_count": 710,
   "metadata": {},
   "outputs": [],
   "source": [
    "for i, line in enumerate(node_matrix):\n",
    "    for j, node in enumerate(line):\n",
    "        possible_neighbors = [\n",
    "            (x,y) \n",
    "            #for x in range(node.matrix_center[0]-1, node.matrix_center[0]+1+1) #si on veut que les coins connectent\n",
    "            #for y in range(node.matrix_center[1]-1, node.matrix_center[1]+1+1) #same\n",
    "\n",
    "            for (x,y) in [(node.matrix_center[0]-1, node.matrix_center[1]), \n",
    "                          (node.matrix_center[0]+1, node.matrix_center[1]), \n",
    "                          (node.matrix_center[0], node.matrix_center[1]-1), \n",
    "                          (node.matrix_center[0], node.matrix_center[1]+1)]\n",
    "\n",
    "            if (x >=0 and x < len(node_matrix) and y >= 0 and y < len(node_matrix[1]) and (x,y) != node.matrix_center)\n",
    "        ]\n",
    "        #node.neighbors += possible_neighbors\n",
    "        for (y,x) in possible_neighbors:\n",
    "            node.neighbors.append(node_matrix[y][x]) #maybe node_matrix[x][y]"
   ]
  },
  {
   "cell_type": "code",
   "execution_count": 711,
   "metadata": {},
   "outputs": [],
   "source": [
    "def recursive_cushion(node, distance):\n",
    "    if distance > 0:\n",
    "        for neighbor in node.neighbors:\n",
    "            if neighbor.role == \"empty\":\n",
    "                neighbor.role = \"obstacle_cushion\"\n",
    "                \n",
    "                #draw cushion\n",
    "                y1,x1 = neighbor.pixel_coordinates_center\n",
    "                draw.rectangle([(x1-square_identifier_width,y1-square_identifier_width), (x1+square_identifier_width,y1+square_identifier_width)], fill=(0,255,0))\n",
    "                \n",
    "            recursive_cushion(neighbor, distance-1)"
   ]
  },
  {
   "cell_type": "markdown",
   "metadata": {},
   "source": [
    "Add obstacles"
   ]
  },
  {
   "cell_type": "code",
   "execution_count": 712,
   "metadata": {},
   "outputs": [],
   "source": [
    "for (y,x) in obstacles:\n",
    "    node = node_matrix[x//space_between_squares][y//space_between_squares]\n",
    "    node.role = \"obstacle\"\n",
    "    \n",
    "    #add cushion\n",
    "    distance = (obstacle_cushion//space_between_squares) + 1\n",
    "    #distance = 0\n",
    "    recursive_cushion(node, distance)\n",
    "        \n",
    "    \n",
    "    #draw obstacle\n",
    "    y1,x1 = node.pixel_coordinates_center\n",
    "    draw.rectangle([(x1-square_identifier_width,y1-square_identifier_width), (x1+square_identifier_width,y1+square_identifier_width)], fill=(255,255,255))\n",
    "    "
   ]
  },
  {
   "cell_type": "markdown",
   "metadata": {},
   "source": [
    "Identify start + end nodes"
   ]
  },
  {
   "cell_type": "code",
   "execution_count": 713,
   "metadata": {},
   "outputs": [
    {
     "name": "stdout",
     "output_type": "stream",
     "text": [
      "[(15.0, 15.0), (35.0, 35.0)] (0, 0)\n",
      "[(365.0, 15.0), (385.0, 35.0)] (0, 7)\n"
     ]
    }
   ],
   "source": [
    "start_node = node_matrix[start_node_pixel_center[0]//space_between_squares][start_node_pixel_center[1]//space_between_squares]\n",
    "end_node = node_matrix[end_node_pixel_center[0]//space_between_squares][end_node_pixel_center[1]//space_between_squares]\n",
    "\n",
    "#Draw\n",
    "y1,x1 = start_node.pixel_coordinates_center\n",
    "y2,x2 = end_node.pixel_coordinates_center\n",
    "draw.rectangle([(x1-square_identifier_width,y1-square_identifier_width), (x1+square_identifier_width,y1+square_identifier_width)], fill=200)\n",
    "draw.rectangle([(x2-square_identifier_width,y2-square_identifier_width), (x2+square_identifier_width,y2+square_identifier_width)], fill=120)\n",
    "print([(x1-square_identifier_width,y1-square_identifier_width), (x1+square_identifier_width,y1+square_identifier_width)], start_node.matrix_center)\n",
    "print([(x2-square_identifier_width,y2-square_identifier_width), (x2+square_identifier_width,y2+square_identifier_width)], end_node.matrix_center)"
   ]
  },
  {
   "cell_type": "markdown",
   "metadata": {},
   "source": [
    "BFS and extract path"
   ]
  },
  {
   "cell_type": "code",
   "execution_count": 714,
   "metadata": {},
   "outputs": [
    {
     "name": "stdout",
     "output_type": "stream",
     "text": [
      "(0, 0) (0, 7)\n",
      "[(0, 0), (1, 0), (2, 0), (3, 0), (4, 0), (5, 0), (6, 0), (6, 1), (6, 2), (6, 3), (6, 4), (6, 5), (5, 5), (5, 6), (4, 6), (3, 6), (2, 6), (1, 6), (0, 6), (0, 7)]\n"
     ]
    }
   ],
   "source": [
    "#BFS\n",
    "\n",
    "queue = []\n",
    "visited = {start_node}\n",
    "\n",
    "queue.append([start_node])\n",
    "\n",
    "while queue:\n",
    "    path = queue.pop(0) #prendre une actual queue pour que ce soit efficace\n",
    "    node = path[-1]\n",
    "    \n",
    "    if node == end_node:\n",
    "        print(start_node.matrix_center, end_node.matrix_center)\n",
    "        print([_node.matrix_center for _node in path])\n",
    "        break\n",
    "    \n",
    "    for neighbor in node.neighbors:\n",
    "        if neighbor not in visited and neighbor.role == \"empty\":\n",
    "            queue.append(path+[neighbor])\n",
    "            visited.add(neighbor)\n"
   ]
  },
  {
   "cell_type": "markdown",
   "metadata": {},
   "source": [
    "Draw path"
   ]
  },
  {
   "cell_type": "code",
   "execution_count": 715,
   "metadata": {},
   "outputs": [],
   "source": [
    "#draw path\n",
    "for node in path:\n",
    "    y,x = node.pixel_coordinates_center\n",
    "    draw.rectangle([(x-square_identifier_width,y-square_identifier_width), (x+square_identifier_width,y+square_identifier_width)], outline=300)"
   ]
  },
  {
   "cell_type": "code",
   "execution_count": 716,
   "metadata": {},
   "outputs": [],
   "source": [
    "img.show()"
   ]
  },
  {
   "cell_type": "code",
   "execution_count": null,
   "metadata": {},
   "outputs": [],
   "source": []
  },
  {
   "cell_type": "code",
   "execution_count": null,
   "metadata": {},
   "outputs": [],
   "source": [
    "prehenseur = ()\n",
    "robot = ()\n",
    "final = ()\n",
    "puck = ()"
   ]
  },
  {
   "cell_type": "code",
   "execution_count": null,
   "metadata": {},
   "outputs": [],
   "source": [
    "[\n",
    "    [], [], [2,0]\n",
    "    [0,1], [1,1], []\n",
    "    [0,2], [], []\n",
    "]"
   ]
  },
  {
   "cell_type": "code",
   "execution_count": 718,
   "metadata": {},
   "outputs": [],
   "source": [
    "import math"
   ]
  },
  {
   "cell_type": "code",
   "execution_count": 728,
   "metadata": {},
   "outputs": [
    {
     "data": {
      "text/plain": [
       "135.0"
      ]
     },
     "execution_count": 728,
     "metadata": {},
     "output_type": "execute_result"
    }
   ],
   "source": [
    "x1,y1 = (2,0)\n",
    "x2,y2 = (0,2)\n",
    "\n",
    "deg = math.atan2((y2-y1),(x2-x1))\n",
    "deg*180/math.pi"
   ]
  },
  {
   "cell_type": "code",
   "execution_count": 729,
   "metadata": {},
   "outputs": [
    {
     "data": {
      "text/plain": [
       "0.0"
      ]
     },
     "execution_count": 729,
     "metadata": {},
     "output_type": "execute_result"
    }
   ],
   "source": [
    "x1,y1 = (0,1)\n",
    "x2,y2 = (1,1)\n",
    "\n",
    "deg2 = math.atan2((y2-y1),(x2-x1))\n",
    "deg2*180/math.pi"
   ]
  },
  {
   "cell_type": "code",
   "execution_count": 730,
   "metadata": {},
   "outputs": [
    {
     "ename": "SyntaxError",
     "evalue": "invalid syntax (<ipython-input-730-4f5bb2a93e4b>, line 1)",
     "output_type": "error",
     "traceback": [
      "\u001b[0;36m  File \u001b[0;32m\"<ipython-input-730-4f5bb2a93e4b>\"\u001b[0;36m, line \u001b[0;32m1\u001b[0m\n\u001b[0;31m    ->  -^\u001b[0m\n\u001b[0m     ^\u001b[0m\n\u001b[0;31mSyntaxError\u001b[0m\u001b[0;31m:\u001b[0m invalid syntax\n"
     ]
    }
   ],
   "source": [
    "->  -^"
   ]
  },
  {
   "cell_type": "code",
   "execution_count": 731,
   "metadata": {},
   "outputs": [
    {
     "data": {
      "text/plain": [
       "45.0"
      ]
     },
     "execution_count": 731,
     "metadata": {},
     "output_type": "execute_result"
    }
   ],
   "source": [
    "target = 180 - deg2*180/math.pi\n",
    "to_turn = target - deg*180/math.pi\n",
    "to_turn"
   ]
  },
  {
   "cell_type": "code",
   "execution_count": null,
   "metadata": {},
   "outputs": [],
   "source": [
    "def find_angle_to_turn(start, gripper, end, final_path_node):\n",
    "    x1, y1 = start\n",
    "    x2, y2 = gripper\n",
    "    initial_angle = math.atan2(y2 - y1, x2 - x1) * 180 / math.pi\n",
    "\n",
    "    x1, y1 = end\n",
    "    x2, y2 = final_path_node\n",
    "    final_angle = math.atan2(y2 - y1, x2 - x1) * 180 / math.pi\n",
    "\n",
    "    target = 180 - final_angle * 180 / math.pi\n",
    "    rotation = target - initial_angle * 180 / math.pi\n",
    "    return rotation"
   ]
  },
  {
   "cell_type": "code",
   "execution_count": null,
   "metadata": {},
   "outputs": [],
   "source": []
  },
  {
   "cell_type": "code",
   "execution_count": null,
   "metadata": {},
   "outputs": [],
   "source": []
  },
  {
   "cell_type": "code",
   "execution_count": null,
   "metadata": {},
   "outputs": [],
   "source": []
  },
  {
   "cell_type": "code",
   "execution_count": null,
   "metadata": {},
   "outputs": [],
   "source": []
  },
  {
   "cell_type": "code",
   "execution_count": null,
   "metadata": {},
   "outputs": [],
   "source": []
  },
  {
   "cell_type": "code",
   "execution_count": null,
   "metadata": {},
   "outputs": [],
   "source": []
  },
  {
   "cell_type": "code",
   "execution_count": null,
   "metadata": {},
   "outputs": [],
   "source": []
  },
  {
   "cell_type": "code",
   "execution_count": null,
   "metadata": {},
   "outputs": [],
   "source": []
  },
  {
   "cell_type": "code",
   "execution_count": null,
   "metadata": {},
   "outputs": [],
   "source": []
  },
  {
   "cell_type": "code",
   "execution_count": null,
   "metadata": {},
   "outputs": [],
   "source": []
  },
  {
   "cell_type": "code",
   "execution_count": null,
   "metadata": {},
   "outputs": [],
   "source": []
  },
  {
   "cell_type": "code",
   "execution_count": null,
   "metadata": {},
   "outputs": [],
   "source": []
  },
  {
   "cell_type": "code",
   "execution_count": null,
   "metadata": {},
   "outputs": [],
   "source": []
  },
  {
   "cell_type": "code",
   "execution_count": null,
   "metadata": {},
   "outputs": [],
   "source": [
    "#robot\n",
    "#-draw forme\n",
    "#-vu que c'est supposé être un carré (faut peut-être y repenser à cause de la pince)\n",
    "# on peut prendre le point central, associer le starting point à ça et mettre la largeur du robot (/forme dessiné)\n",
    "# comme robot width dans le safety cushion\n",
    "#-win\n",
    "\n",
    "#obstacle\n",
    "#-draw forme\n",
    "#-pogne tous les carrés qui sont pogné dedans\n",
    "#-transforme en obstacle"
   ]
  },
  {
   "cell_type": "code",
   "execution_count": null,
   "metadata": {},
   "outputs": [],
   "source": [
    "#spawn des obstacles au hasard\n",
    "\n",
    "#checker si je peux avec des hexagones ou whatever\n",
    "\n",
    "#essayer de plugger avec les détections de couleur + détection de robot\n",
    "\n",
    "#essayer de donner des vecteurs en assumant les dimensions sur l'image\n",
    "\n",
    "#...\n",
    "#prendre une forme random et lui associer comme destination une couple de cases (prob merge des nodes en une seule?)\n",
    "\n",
    "#draw deux formes random sur une image. premiere start, deuxieme end et ca fait le trajet entre les deux + montre clairement premier move\n"
   ]
  },
  {
   "cell_type": "code",
   "execution_count": null,
   "metadata": {},
   "outputs": [],
   "source": [
    "# what if la destination c'est une puck. (pas voir la puck comme un obstacle ou whatever?)"
   ]
  },
  {
   "cell_type": "code",
   "execution_count": null,
   "metadata": {},
   "outputs": [],
   "source": []
  },
  {
   "cell_type": "code",
   "execution_count": null,
   "metadata": {},
   "outputs": [],
   "source": []
  }
 ],
 "metadata": {
  "kernelspec": {
   "display_name": "Python 3",
   "language": "python",
   "name": "python3"
  },
  "language_info": {
   "codemirror_mode": {
    "name": "ipython",
    "version": 3
   },
   "file_extension": ".py",
   "mimetype": "text/x-python",
   "name": "python",
   "nbconvert_exporter": "python",
   "pygments_lexer": "ipython3",
   "version": "3.7.0"
  }
 },
 "nbformat": 4,
 "nbformat_minor": 2
}
